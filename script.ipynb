{
 "metadata": {
  "language_info": {
   "codemirror_mode": {
    "name": "ipython",
    "version": 3
   },
   "file_extension": ".py",
   "mimetype": "text/x-python",
   "name": "python",
   "nbconvert_exporter": "python",
   "pygments_lexer": "ipython3",
   "version": "3.9.1-final"
  },
  "orig_nbformat": 2,
  "kernelspec": {
   "name": "python3",
   "display_name": "Python 3.9.1 64-bit",
   "metadata": {
    "interpreter": {
     "hash": "7812ea015bdcee6f23a998adcdd2ef97c151c0c241b7b7070987d9313e41299d"
    }
   }
  }
 },
 "nbformat": 4,
 "nbformat_minor": 2,
 "cells": [
  {
   "cell_type": "code",
   "execution_count": 119,
   "metadata": {},
   "outputs": [
    {
     "output_type": "execute_result",
     "data": {
      "text/plain": [
       "0.7705627705627706"
      ]
     },
     "metadata": {},
     "execution_count": 119
    }
   ],
   "source": [
    "# 1. import dependencies\n",
    "import pandas  as pd\n",
    "import numpy   as np\n",
    "import seaborn as sns\n",
    "from sklearn.model_selection import train_test_split\n",
    "from sklearn.tree import DecisionTreeClassifier\n",
    "from sklearn.metrics import accuracy_score\n",
    "\n",
    "# 2. get the data\n",
    "data = pd.read_csv('heart_failure_clinical_records_dataset.csv')\n",
    "factors = data.iloc[:,:12]\n",
    "results = data[\"DEATH_EVENT\"]\n",
    "\n",
    "# 3. split the data into test and train\n",
    "X_train, X_test, y_train, y_true = train_test_split(factors, results, test_size=0.77, random_state=42)\n",
    "\n",
    "# 4. run thru \"DecisionTreeClassifier\" model\n",
    "predictor = DecisionTreeClassifier(random_state=1)\n",
    "predictor.fit(X_train, y_train)\n",
    "\n",
    "# 5. accuracy of the model\n",
    "y_predict = predictor.predict(X_test, check_input=True)\n",
    "accuracy_score(y_true, y_predict)\n",
    "\n",
    "\n"
   ]
  }
 ]
}