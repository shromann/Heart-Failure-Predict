{
 "metadata": {
  "language_info": {
   "codemirror_mode": {
    "name": "ipython",
    "version": 3
   },
   "file_extension": ".py",
   "mimetype": "text/x-python",
   "name": "python",
   "nbconvert_exporter": "python",
   "pygments_lexer": "ipython3",
   "version": "3.9.1-final"
  },
  "orig_nbformat": 2,
  "kernelspec": {
   "name": "python3",
   "display_name": "Python 3.9.1 64-bit",
   "metadata": {
    "interpreter": {
     "hash": "7812ea015bdcee6f23a998adcdd2ef97c151c0c241b7b7070987d9313e41299d"
    }
   }
  }
 },
 "nbformat": 4,
 "nbformat_minor": 2,
 "cells": [
  {
   "cell_type": "code",
   "execution_count": 76,
   "metadata": {},
   "outputs": [],
   "source": [
    "# 1. import dependencies\n",
    "import pandas  as pd\n",
    "import numpy   as np\n",
    "import seaborn as sns\n",
    "from sklearn.model_selection import train_test_split\n",
    "from sklearn import tree\n",
    "from sklearn.linear_model import LogisticRegression\n",
    "from sklearn.metrics import accuracy_score\n",
    "from sklearn import preprocessing\n",
    "from info_gain import info_gain"
   ]
  },
  {
   "source": [
    "# 2. get the data\n",
    "data = pd.read_csv('heart_failure_clinical_records_dataset.csv')\n",
    "factors = data.iloc[:,:12]\n",
    "results = data[\"DEATH_EVENT\"]"
   ],
   "cell_type": "code",
   "metadata": {},
   "execution_count": 77,
   "outputs": []
  },
  {
   "cell_type": "code",
   "execution_count": 78,
   "metadata": {},
   "outputs": [],
   "source": [
    "# 3. split the data into test and train\n",
    "X_train, X_test, y_train, y_true = train_test_split(factors, results, test_size=0.77, random_state=42)"
   ]
  },
  {
   "cell_type": "code",
   "execution_count": 79,
   "metadata": {},
   "outputs": [],
   "source": [
    "# 4. run thru \"DecisionTreeClassifier\" model\n",
    "predictor = DecisionTreeClassifier(random_state=1)\n",
    "predictor.fit(X_train, y_train)\n",
    "\n",
    "clf = LogisticRegression(random_state=0).fit(X_train, y_train)\n",
    "y_predict2 = clf.predict(X_test)"
   ]
  },
  {
   "cell_type": "code",
   "execution_count": 80,
   "metadata": {},
   "outputs": [
    {
     "output_type": "stream",
     "name": "stdout",
     "text": [
      "0.7705627705627706\n0.8138528138528138\n"
     ]
    }
   ],
   "source": [
    "# 5. accuracy of the model\n",
    "y_predict1 = predictor.predict(X_test, check_input=True)\n",
    "print(accuracy_score(y_true, y_predict1))\n",
    "print(accuracy_score(y_true, y_predict2))"
   ]
  }
 ]
}